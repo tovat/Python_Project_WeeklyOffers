{
 "cells": [
  {
   "cell_type": "markdown",
   "metadata": {},
   "source": [
    "# Manual testing of Scraper and Data Cleaner \n",
    "### Trying out the Scraper and DataCleaner manually, looking at the result and saving the data to a CSV file and finally storing it in SQL."
   ]
  },
  {
   "cell_type": "code",
   "execution_count": 1,
   "metadata": {},
   "outputs": [],
   "source": [
    "import pandas as pd\n",
    "from fetch_weekly_offers.utils.scraper import Scraper\n",
    "from fetch_weekly_offers.utils.cleaner import DataCleaner\n",
    "from fetch_weekly_offers.utils.funcs import set_up_logging, save_to_sql"
   ]
  },
  {
   "cell_type": "code",
   "execution_count": 2,
   "metadata": {},
   "outputs": [
    {
     "name": "stdout",
     "output_type": "stream",
     "text": [
      "Number of offers found: 223\n"
     ]
    }
   ],
   "source": [
    "url = \"https://ereklamblad.se/ICA-Maxi-Stormarknad/erbjudanden\"\n",
    "\n",
    "# Instantiate Scraper with URL to Coops leaflet and call the scraping method\n",
    "scraper = Scraper(url)\n",
    "scraped_data = scraper.scrape()"
   ]
  },
  {
   "cell_type": "code",
   "execution_count": 3,
   "metadata": {},
   "outputs": [
    {
     "name": "stdout",
     "output_type": "stream",
     "text": [
      "Data saved to offers_2024-09-25.csv\n"
     ]
    }
   ],
   "source": [
    "scraper.save_to_csv()"
   ]
  },
  {
   "cell_type": "code",
   "execution_count": 4,
   "metadata": {},
   "outputs": [
    {
     "name": "stdout",
     "output_type": "stream",
     "text": [
      "[{'Name': 'Grönkålsblad i påse', 'Price': '25\\xa0kr', 'Details': '400 g•62,50\\xa0kr/kg', 'Store': 'ICA Maxi Stormarknad', 'ValidFrom': '2024-09-22T22:00:00.000Z', 'ValidThrough': '2024-09-29T22:00:00.000Z', 'ValidUntil': '2024-09-29T22:00:00.000Z'}, {'Name': 'Röda kärnfria druvor i ask', 'Price': '25\\xa0kr', 'Details': '500 g•50\\xa0kr/kg', 'Store': 'ICA Maxi Stormarknad', 'ValidFrom': '2024-09-22T22:00:00.000Z', 'ValidThrough': '2024-09-29T22:00:00.000Z', 'ValidUntil': '2024-09-29T22:00:00.000Z'}, {'Name': 'Babyplommontomater i ask', 'Price': '25\\xa0kr', 'Details': '500 g•50\\xa0kr/kg', 'Store': 'ICA Maxi Stormarknad', 'ValidFrom': '2024-09-22T22:00:00.000Z', 'ValidThrough': '2024-09-29T22:00:00.000Z', 'ValidUntil': '2024-09-29T22:00:00.000Z'}, {'Name': 'Rostbiff', 'Price': '149\\xa0kr', 'Details': '1 kg•149\\xa0kr/kg', 'Store': 'ICA Maxi Stormarknad', 'ValidFrom': '2024-09-22T22:00:00.000Z', 'ValidThrough': '2024-09-29T22:00:00.000Z', 'ValidUntil': '2024-09-29T22:00:00.000Z'}, {'Name': 'Bacon', 'Price': '79\\xa0kr', 'Details': '2x420 g•94,05\\xa0kr/kg', 'Store': 'ICA Maxi Stormarknad', 'ValidFrom': '2024-09-22T22:00:00.000Z', 'ValidThrough': '2024-09-29T22:00:00.000Z', 'ValidUntil': '2024-09-29T22:00:00.000Z'}, {'Name': 'Avfallspåse', 'Price': '45\\xa0kr', 'Details': '3 stycken•15\\xa0kr/var', 'Store': 'ICA Maxi Stormarknad', 'ValidFrom': '2024-09-22T22:00:00.000Z', 'ValidThrough': '2024-09-29T22:00:00.000Z', 'ValidUntil': '2024-09-29T22:00:00.000Z'}, {'Name': 'Diskborste', 'Price': '25\\xa0kr', 'Details': '3 stycken•8,33\\xa0kr/var', 'Store': 'ICA Maxi Stormarknad', 'ValidFrom': '2024-09-22T22:00:00.000Z', 'ValidThrough': '2024-09-29T22:00:00.000Z', 'ValidUntil': '2024-09-29T22:00:00.000Z'}, {'Name': 'Stekpanna Jamie Oliver', 'Price': '299\\xa0kr', 'Details': '', 'Store': 'ICA Maxi Stormarknad', 'ValidFrom': '2024-09-23T00:00:00.000Z', 'ValidThrough': '2024-10-14T00:00:00.000Z', 'ValidUntil': '2024-10-14T00:00:00.000Z'}, {'Name': 'Kaffebryggare', 'Price': '599\\xa0kr', 'Details': '', 'Store': 'ICA Maxi Stormarknad', 'ValidFrom': '2024-09-23T00:00:00.000Z', 'ValidThrough': '2024-10-14T00:00:00.000Z', 'ValidUntil': '2024-10-14T00:00:00.000Z'}, {'Name': 'Ugnsform', 'Price': '69,90\\xa0kr', 'Details': '', 'Store': 'ICA Maxi Stormarknad', 'ValidFrom': '2024-09-23T00:00:00.000Z', 'ValidThrough': '2024-10-14T00:00:00.000Z', 'ValidUntil': '2024-10-14T00:00:00.000Z'}, {'Name': 'Förvaringsburk', 'Price': '59,90\\xa0kr', 'Details': '', 'Store': 'ICA Maxi Stormarknad', 'ValidFrom': '2024-09-23T00:00:00.000Z', 'ValidThrough': '2024-10-14T00:00:00.000Z', 'ValidUntil': '2024-10-14T00:00:00.000Z'}, {'Name': 'Stavmixer', 'Price': '599\\xa0kr', 'Details': '', 'Store': 'ICA Maxi Stormarknad', 'ValidFrom': '2024-09-23T00:00:00.000Z', 'ValidThrough': '2024-10-14T00:00:00.000Z', 'ValidUntil': '2024-10-14T00:00:00.000Z'}, {'Name': 'Kockkniv', 'Price': '159\\xa0kr', 'Details': '', 'Store': 'ICA Maxi Stormarknad', 'ValidFrom': '2024-09-23T00:00:00.000Z', 'ValidThrough': '2024-10-14T00:00:00.000Z', 'ValidUntil': '2024-10-14T00:00:00.000Z'}, {'Name': 'Glasburkar', 'Price': '29,90\\xa0kr', 'Details': '', 'Store': 'ICA Maxi Stormarknad', 'ValidFrom': '2024-09-23T00:00:00.000Z', 'ValidThrough': '2024-10-14T00:00:00.000Z', 'ValidUntil': '2024-10-14T00:00:00.000Z'}, {'Name': 'Kaffe', 'Price': '150\\xa0kr', 'Details': '3x450 g• 111,11\\xa0kr/kg', 'Store': 'ICA Maxi Stormarknad', 'ValidFrom': '2024-09-22T22:00:00.000Z', 'ValidThrough': '2024-09-29T22:00:00.000Z', 'ValidUntil': '2024-09-29T22:00:00.000Z'}, {'Name': 'Dammsugare', 'Price': '1\\xa0199\\xa0kr', 'Details': '', 'Store': 'ICA Maxi Stormarknad', 'ValidFrom': '2024-09-22T22:00:00.000Z', 'ValidThrough': '2024-09-29T22:00:00.000Z', 'ValidUntil': '2024-09-29T22:00:00.000Z'}, {'Name': 'Tändkuber', 'Price': '49,90\\xa0kr', 'Details': '', 'Store': 'ICA Maxi Stormarknad', 'ValidFrom': '2024-09-22T22:00:00.000Z', 'ValidThrough': '2024-09-29T22:00:00.000Z', 'ValidUntil': '2024-09-29T22:00:00.000Z'}, {'Name': 'Glasburkar', 'Price': '49,90\\xa0kr', 'Details': '', 'Store': 'ICA Maxi Stormarknad', 'ValidFrom': '2024-09-23T00:00:00.000Z', 'ValidThrough': '2024-10-14T00:00:00.000Z', 'ValidUntil': '2024-10-14T00:00:00.000Z'}, {'Name': 'Kolsyrat vatten', 'Price': '24\\xa0kr', 'Details': '3x150 cl• 5,33\\xa0kr/l', 'Store': 'ICA Maxi Stormarknad', 'ValidFrom': '2024-09-22T22:00:00.000Z', 'ValidThrough': '2024-09-29T22:00:00.000Z', 'ValidUntil': '2024-09-29T22:00:00.000Z'}, {'Name': 'Ostbricka', 'Price': '99\\xa0kr', 'Details': '', 'Store': 'ICA Maxi Stormarknad', 'ValidFrom': '2024-09-22T22:00:00.000Z', 'ValidThrough': '2024-09-29T22:00:00.000Z', 'ValidUntil': '2024-09-29T22:00:00.000Z'}, {'Name': 'Läsk', 'Price': '99\\xa0kr', 'Details': '33 cl• 300\\xa0kr/l', 'Store': 'ICA Maxi Stormarknad', 'ValidFrom': '2024-09-22T22:00:00.000Z', 'ValidThrough': '2024-09-29T22:00:00.000Z', 'ValidUntil': '2024-09-29T22:00:00.000Z'}, {'Name': 'Paraplyaralia, Tulpaner 9-pack, Ytterkruka', 'Price': '69\\xa0kr', 'Details': '', 'Store': 'ICA Maxi Stormarknad', 'ValidFrom': '2024-09-22T22:00:00.000Z', 'ValidThrough': '2024-09-29T22:00:00.000Z', 'ValidUntil': '2024-09-29T22:00:00.000Z'}, {'Name': 'Ljung Calluna', 'Price': '99\\xa0kr', 'Details': '4 stycken• 24,75\\xa0kr/var', 'Store': 'ICA Maxi Stormarknad', 'ValidFrom': '2024-09-22T22:00:00.000Z', 'ValidThrough': '2024-09-29T22:00:00.000Z', 'ValidUntil': '2024-09-29T22:00:00.000Z'}, {'Name': 'Färsk kycklinglårfilé', 'Price': '99\\xa0kr', 'Details': '1 kg• 99\\xa0kr/kg', 'Store': 'ICA Maxi Stormarknad', 'ValidFrom': '2024-09-22T22:00:00.000Z', 'ValidThrough': '2024-09-29T22:00:00.000Z', 'ValidUntil': '2024-09-29T22:00:00.000Z'}, {'Name': 'Benfri fläskkarré', 'Price': '89,90\\xa0kr', 'Details': '1 kg• 89,90\\xa0kr/kg', 'Store': 'ICA Maxi Stormarknad', 'ValidFrom': '2024-09-22T22:00:00.000Z', 'ValidThrough': '2024-09-29T22:00:00.000Z', 'ValidUntil': '2024-09-29T22:00:00.000Z'}, {'Name': 'Lammfärs', 'Price': '69,90\\xa0kr', 'Details': '500 g• 139,80\\xa0kr/kg', 'Store': 'ICA Maxi Stormarknad', 'ValidFrom': '2024-09-22T22:00:00.000Z', 'ValidThrough': '2024-09-29T22:00:00.000Z', 'ValidUntil': '2024-09-29T22:00:00.000Z'}, {'Name': 'Lövbiff', 'Price': '169\\xa0kr', 'Details': '1 kg• 169\\xa0kr/kg', 'Store': 'ICA Maxi Stormarknad', 'ValidFrom': '2024-09-22T22:00:00.000Z', 'ValidThrough': '2024-09-29T22:00:00.000Z', 'ValidUntil': '2024-09-29T22:00:00.000Z'}, {'Name': 'Kyld sås', 'Price': '35\\xa0kr', 'Details': '2x230 ml• 76,09\\xa0kr/l', 'Store': 'ICA Maxi Stormarknad', 'ValidFrom': '2024-09-22T22:00:00.000Z', 'ValidThrough': '2024-09-29T22:00:00.000Z', 'ValidUntil': '2024-09-29T22:00:00.000Z'}, {'Name': 'Cheddar, Havarti, Gouda', 'Price': '40\\xa0kr', 'Details': '200 g• 200\\xa0kr/kg', 'Store': 'ICA Maxi Stormarknad', 'ValidFrom': '2024-09-22T22:00:00.000Z', 'ValidThrough': '2024-09-29T22:00:00.000Z', 'ValidUntil': '2024-09-29T22:00:00.000Z'}, {'Name': 'Avfallspåse', 'Price': '45\\xa0kr', 'Details': '3 stycken• 15\\xa0kr/var', 'Store': 'ICA Maxi Stormarknad', 'ValidFrom': '2024-09-22T22:00:00.000Z', 'ValidThrough': '2024-09-29T22:00:00.000Z', 'ValidUntil': '2024-09-29T22:00:00.000Z'}, {'Name': 'Diskborste', 'Price': '25\\xa0kr', 'Details': '3 stycken• 8,33\\xa0kr/var', 'Store': 'ICA Maxi Stormarknad', 'ValidFrom': '2024-09-22T22:00:00.000Z', 'ValidThrough': '2024-09-29T22:00:00.000Z', 'ValidUntil': '2024-09-29T22:00:00.000Z'}, {'Name': 'Stekpanna Jamie Oliver', 'Price': '299\\xa0kr', 'Details': '', 'Store': 'ICA Maxi Stormarknad', 'ValidFrom': '2024-09-23T00:00:00.000Z', 'ValidThrough': '2024-10-14T00:00:00.000Z', 'ValidUntil': '2024-10-14T00:00:00.000Z'}, {'Name': 'Kaffebryggare', 'Price': '499\\xa0kr', 'Details': '', 'Store': 'ICA Maxi Stormarknad', 'ValidFrom': '2024-09-23T00:00:00.000Z', 'ValidThrough': '2024-10-14T00:00:00.000Z', 'ValidUntil': '2024-10-14T00:00:00.000Z'}, {'Name': 'Kaffebryggare', 'Price': '299\\xa0kr', 'Details': '', 'Store': 'ICA Maxi Stormarknad', 'ValidFrom': '2024-09-23T00:00:00.000Z', 'ValidThrough': '2024-10-14T00:00:00.000Z', 'ValidUntil': '2024-10-14T00:00:00.000Z'}, {'Name': 'Korg', 'Price': '99\\xa0kr', 'Details': '', 'Store': 'ICA Maxi Stormarknad', 'ValidFrom': '2024-09-23T00:00:00.000Z', 'ValidThrough': '2024-10-14T00:00:00.000Z', 'ValidUntil': '2024-10-14T00:00:00.000Z'}, {'Name': 'Vattenkokare', 'Price': '299\\xa0kr', 'Details': '', 'Store': 'ICA Maxi Stormarknad', 'ValidFrom': '2024-09-23T00:00:00.000Z', 'ValidThrough': '2024-10-14T00:00:00.000Z', 'ValidUntil': '2024-10-14T00:00:00.000Z'}, {'Name': 'Gjutjärnsgryta', 'Price': '499\\xa0kr', 'Details': '', 'Store': 'ICA Maxi Stormarknad', 'ValidFrom': '2024-09-23T00:00:00.000Z', 'ValidThrough': '2024-10-14T00:00:00.000Z', 'ValidUntil': '2024-10-14T00:00:00.000Z'}, {'Name': 'Ekologiskt surdegs-, rågbröd', 'Price': '21,90\\xa0kr', 'Details': '300-350 g• max 73\\xa0kr/kg', 'Store': 'ICA Maxi Stormarknad', 'ValidFrom': '2024-09-22T22:00:00.000Z', 'ValidThrough': '2024-09-29T22:00:00.000Z', 'ValidUntil': '2024-09-29T22:00:00.000Z'}, {'Name': 'Ris-, majskakor', 'Price': '35\\xa0kr', 'Details': '2x120-130 g• max 145,83\\xa0kr/kg', 'Store': 'ICA Maxi Stormarknad', 'ValidFrom': '2024-09-22T22:00:00.000Z', 'ValidThrough': '2024-09-29T22:00:00.000Z', 'ValidUntil': '2024-09-29T22:00:00.000Z'}, {'Name': 'Lingongrova, Guldkorn, Lingongrova special', 'Price': '20,90\\xa0kr', 'Details': '500 g• 41,80\\xa0kr/kg', 'Store': 'ICA Maxi Stormarknad', 'ValidFrom': '2024-09-22T22:00:00.000Z', 'ValidThrough': '2024-09-29T22:00:00.000Z', 'ValidUntil': '2024-09-29T22:00:00.000Z'}, {'Name': 'Airfryer', 'Price': '799\\xa0kr', 'Details': '', 'Store': 'ICA Maxi Stormarknad', 'ValidFrom': '2024-09-23T00:00:00.000Z', 'ValidThrough': '2024-10-14T00:00:00.000Z', 'ValidUntil': '2024-10-14T00:00:00.000Z'}, {'Name': 'Musfälla', 'Price': '34,90\\xa0kr', 'Details': '', 'Store': 'ICA Maxi Stormarknad', 'ValidFrom': '2024-09-22T22:00:00.000Z', 'ValidThrough': '2024-09-29T22:00:00.000Z', 'ValidUntil': '2024-09-29T22:00:00.000Z'}, {'Name': 'Stekpanna Recyled', 'Price': '199\\xa0kr', 'Details': '', 'Store': 'ICA Maxi Stormarknad', 'ValidFrom': '2024-09-23T00:00:00.000Z', 'ValidThrough': '2024-10-14T00:00:00.000Z', 'ValidUntil': '2024-10-14T00:00:00.000Z'}, {'Name': 'Stekpanna Functional Form', 'Price': '299\\xa0kr', 'Details': '', 'Store': 'ICA Maxi Stormarknad', 'ValidFrom': '2024-09-23T00:00:00.000Z', 'ValidThrough': '2024-10-14T00:00:00.000Z', 'ValidUntil': '2024-10-14T00:00:00.000Z'}, {'Name': 'Stekpanna Recyled', 'Price': '249\\xa0kr', 'Details': '', 'Store': 'ICA Maxi Stormarknad', 'ValidFrom': '2024-09-23T00:00:00.000Z', 'ValidThrough': '2024-10-14T00:00:00.000Z', 'ValidUntil': '2024-10-14T00:00:00.000Z'}, {'Name': 'Digital hushållstermometer', 'Price': '179\\xa0kr', 'Details': '', 'Store': 'ICA Maxi Stormarknad', 'ValidFrom': '2024-09-23T00:00:00.000Z', 'ValidThrough': '2024-10-14T00:00:00.000Z', 'ValidUntil': '2024-10-14T00:00:00.000Z'}, {'Name': 'Kylskåpsförvaring', 'Price': '59,90\\xa0kr', 'Details': '', 'Store': 'ICA Maxi Stormarknad', 'ValidFrom': '2024-09-23T00:00:00.000Z', 'ValidThrough': '2024-10-14T00:00:00.000Z', 'ValidUntil': '2024-10-14T00:00:00.000Z'}, {'Name': 'Stavmixer', 'Price': '599\\xa0kr', 'Details': '', 'Store': 'ICA Maxi Stormarknad', 'ValidFrom': '2024-09-23T00:00:00.000Z', 'ValidThrough': '2024-10-14T00:00:00.000Z', 'ValidUntil': '2024-10-14T00:00:00.000Z'}, {'Name': 'Rivjärn', 'Price': '99\\xa0kr', 'Details': '', 'Store': 'ICA Maxi Stormarknad', 'ValidFrom': '2024-09-23T00:00:00.000Z', 'ValidThrough': '2024-10-14T00:00:00.000Z', 'ValidUntil': '2024-10-14T00:00:00.000Z'}, {'Name': 'Vaniljyoghurt, världens smaker', 'Price': '40\\xa0kr', 'Details': '2x1 kg• 20\\xa0kr/kg', 'Store': 'ICA Maxi Stormarknad', 'ValidFrom': '2024-09-22T22:00:00.000Z', 'ValidThrough': '2024-09-29T22:00:00.000Z', 'ValidUntil': '2024-09-29T22:00:00.000Z'}, {'Name': 'Stavmixer', 'Price': '299\\xa0kr', 'Details': '', 'Store': 'ICA Maxi Stormarknad', 'ValidFrom': '2024-09-23T00:00:00.000Z', 'ValidThrough': '2024-10-14T00:00:00.000Z', 'ValidUntil': '2024-10-14T00:00:00.000Z'}, {'Name': 'Tandkräm', 'Price': '45\\xa0kr', 'Details': '2x75 ml• 300\\xa0kr/l', 'Store': 'ICA Maxi Stormarknad', 'ValidFrom': '2024-09-22T22:00:00.000Z', 'ValidThrough': '2024-09-29T22:00:00.000Z', 'ValidUntil': '2024-09-29T22:00:00.000Z'}, {'Name': 'Duschcreme', 'Price': '35\\xa0kr', 'Details': '2x250 ml• 70\\xa0kr/l', 'Store': 'ICA Maxi Stormarknad', 'ValidFrom': '2024-09-22T22:00:00.000Z', 'ValidThrough': '2024-09-29T22:00:00.000Z', 'ValidUntil': '2024-09-29T22:00:00.000Z'}, {'Name': 'Ekologiska fikon', 'Price': '20\\xa0kr', 'Details': '200 g• 100\\xa0kr/kg', 'Store': 'ICA Maxi Stormarknad', 'ValidFrom': '2024-09-22T22:00:00.000Z', 'ValidThrough': '2024-09-29T22:00:00.000Z', 'ValidUntil': '2024-09-29T22:00:00.000Z'}, {'Name': 'Grötsmoothie', 'Price': '40\\xa0kr', 'Details': '5x120 g• 66,67\\xa0kr/kg', 'Store': 'ICA Maxi Stormarknad', 'ValidFrom': '2024-09-22T22:00:00.000Z', 'ValidThrough': '2024-09-29T22:00:00.000Z', 'ValidUntil': '2024-09-29T22:00:00.000Z'}, {'Name': 'Ekologiska bönor, kikärtor, linser', 'Price': '40\\xa0kr', 'Details': '4x380 g• 26,32\\xa0kr/kg', 'Store': 'ICA Maxi Stormarknad', 'ValidFrom': '2024-09-22T22:00:00.000Z', 'ValidThrough': '2024-09-29T22:00:00.000Z', 'ValidUntil': '2024-09-29T22:00:00.000Z'}, {'Name': 'Värmeljus stora', 'Price': '29,90\\xa0kr', 'Details': '', 'Store': 'ICA Maxi Stormarknad', 'ValidFrom': '2024-09-23T00:00:00.000Z', 'ValidThrough': '2024-10-14T00:00:00.000Z', 'ValidUntil': '2024-10-14T00:00:00.000Z'}, {'Name': 'Dammsugare', 'Price': '2\\xa0199\\xa0kr', 'Details': '', 'Store': 'ICA Maxi Stormarknad', 'ValidFrom': '2024-09-22T22:00:00.000Z', 'ValidThrough': '2024-09-29T22:00:00.000Z', 'ValidUntil': '2024-09-29T22:00:00.000Z'}, {'Name': 'Hårtoning', 'Price': '59\\xa0kr', 'Details': '', 'Store': 'ICA Maxi Stormarknad', 'ValidFrom': '2024-09-22T22:00:00.000Z', 'ValidThrough': '2024-09-29T22:00:00.000Z', 'ValidUntil': '2024-09-29T22:00:00.000Z'}, {'Name': 'Paradise Lumi Glotion', 'Price': '129\\xa0kr', 'Details': '', 'Store': 'ICA Maxi Stormarknad', 'ValidFrom': '2024-09-23T00:00:00.000Z', 'ValidThrough': '2024-10-07T00:00:00.000Z', 'ValidUntil': '2024-10-07T00:00:00.000Z'}, {'Name': 'Dammsugare', 'Price': '1\\xa0599\\xa0kr', 'Details': '', 'Store': 'ICA Maxi Stormarknad', 'ValidFrom': '2024-09-22T22:00:00.000Z', 'ValidThrough': '2024-09-29T22:00:00.000Z', 'ValidUntil': '2024-09-29T22:00:00.000Z'}, {'Name': 'Kolsyremaskin', 'Price': '599\\xa0kr', 'Details': '', 'Store': 'ICA Maxi Stormarknad', 'ValidFrom': '2024-09-22T22:00:00.000Z', 'ValidThrough': '2024-09-29T22:00:00.000Z', 'ValidUntil': '2024-09-29T22:00:00.000Z'}, {'Name': 'Blender', 'Price': '299\\xa0kr', 'Details': '', 'Store': 'ICA Maxi Stormarknad', 'ValidFrom': '2024-09-22T22:00:00.000Z', 'ValidThrough': '2024-09-29T22:00:00.000Z', 'ValidUntil': '2024-09-29T22:00:00.000Z'}, {'Name': 'Köksvåg', 'Price': '99\\xa0kr', 'Details': '', 'Store': 'ICA Maxi Stormarknad', 'ValidFrom': '2024-09-22T22:00:00.000Z', 'ValidThrough': '2024-09-29T22:00:00.000Z', 'ValidUntil': '2024-09-29T22:00:00.000Z'}, {'Name': 'PET-flaska', 'Price': '79\\xa0kr', 'Details': '', 'Store': 'ICA Maxi Stormarknad', 'ValidFrom': '2024-09-22T22:00:00.000Z', 'ValidThrough': '2024-09-29T22:00:00.000Z', 'ValidUntil': '2024-09-29T22:00:00.000Z'}, {'Name': 'Värmeljus', 'Price': '35\\xa0kr', 'Details': '', 'Store': 'ICA Maxi Stormarknad', 'ValidFrom': '2024-09-22T22:00:00.000Z', 'ValidThrough': '2024-09-29T22:00:00.000Z', 'ValidUntil': '2024-09-29T22:00:00.000Z'}, {'Name': 'Chokladkaka Excellence', 'Price': '50\\xa0kr', 'Details': '2x100 g• 250\\xa0kr/kg', 'Store': 'ICA Maxi Stormarknad', 'ValidFrom': '2024-09-22T22:00:00.000Z', 'ValidThrough': '2024-09-29T22:00:00.000Z', 'ValidUntil': '2024-09-29T22:00:00.000Z'}, {'Name': 'Nattlinne', 'Price': '179\\xa0kr', 'Details': '', 'Store': 'ICA Maxi Stormarknad', 'ValidFrom': '2024-09-22T22:00:00.000Z', 'ValidThrough': '2024-09-29T22:00:00.000Z', 'ValidUntil': '2024-09-29T22:00:00.000Z'}, {'Name': 'Trådlös högtalare', 'Price': '999\\xa0kr', 'Details': '', 'Store': 'ICA Maxi Stormarknad', 'ValidFrom': '2024-09-22T22:00:00.000Z', 'ValidThrough': '2024-09-29T22:00:00.000Z', 'ValidUntil': '2024-09-29T22:00:00.000Z'}, {'Name': 'Årets skörd äppelmust', 'Price': '22,90\\xa0kr', 'Details': '1 l• 22,90\\xa0kr/l', 'Store': 'ICA Maxi Stormarknad', 'ValidFrom': '2024-09-22T22:00:00.000Z', 'ValidThrough': '2024-09-29T22:00:00.000Z', 'ValidUntil': '2024-09-29T22:00:00.000Z'}, {'Name': 'Falukorv', 'Price': '69\\xa0kr', 'Details': '2x800 g• 43,13\\xa0kr/kg', 'Store': 'ICA Maxi Stormarknad', 'ValidFrom': '2024-09-22T22:00:00.000Z', 'ValidThrough': '2024-09-29T22:00:00.000Z', 'ValidUntil': '2024-09-29T22:00:00.000Z'}, {'Name': 'Smörgåsmat plånbok', 'Price': '40\\xa0kr', 'Details': '2x90-160 g• max 222,22\\xa0kr/kg', 'Store': 'ICA Maxi Stormarknad', 'ValidFrom': '2024-09-22T22:00:00.000Z', 'ValidThrough': '2024-09-29T22:00:00.000Z', 'ValidUntil': '2024-09-29T22:00:00.000Z'}, {'Name': 'Smörgåsmat plånbok', 'Price': '40\\xa0kr', 'Details': '2x90-160 g• max 222,22\\xa0kr/kg', 'Store': 'ICA Maxi Stormarknad', 'ValidFrom': '2024-09-22T22:00:00.000Z', 'ValidThrough': '2024-09-29T22:00:00.000Z', 'ValidUntil': '2024-09-29T22:00:00.000Z'}, {'Name': 'Kaffebryggare', 'Price': '1\\xa0099\\xa0kr', 'Details': '', 'Store': 'ICA Maxi Stormarknad', 'ValidFrom': '2024-09-23T00:00:00.000Z', 'ValidThrough': '2024-10-14T00:00:00.000Z', 'ValidUntil': '2024-10-14T00:00:00.000Z'}, {'Name': 'Förvaringsburk', 'Price': '89\\xa0kr', 'Details': '', 'Store': 'ICA Maxi Stormarknad', 'ValidFrom': '2024-09-23T00:00:00.000Z', 'ValidThrough': '2024-10-14T00:00:00.000Z', 'ValidUntil': '2024-10-14T00:00:00.000Z'}, {'Name': 'Glasform med plastlock', 'Price': '30\\xa0kr', 'Details': '', 'Store': 'ICA Maxi Stormarknad', 'ValidFrom': '2024-09-23T00:00:00.000Z', 'ValidThrough': '2024-10-14T00:00:00.000Z', 'ValidUntil': '2024-10-14T00:00:00.000Z'}, {'Name': 'Skärbräda', 'Price': '149\\xa0kr', 'Details': '', 'Store': 'ICA Maxi Stormarknad', 'ValidFrom': '2024-09-23T00:00:00.000Z', 'ValidThrough': '2024-10-14T00:00:00.000Z', 'ValidUntil': '2024-10-14T00:00:00.000Z'}, {'Name': 'Glasform med plastlock', 'Price': '26,90\\xa0kr', 'Details': '', 'Store': 'ICA Maxi Stormarknad', 'ValidFrom': '2024-09-23T00:00:00.000Z', 'ValidThrough': '2024-10-14T00:00:00.000Z', 'ValidUntil': '2024-10-14T00:00:00.000Z'}, {'Name': 'Skärbräda', 'Price': '129\\xa0kr', 'Details': '', 'Store': 'ICA Maxi Stormarknad', 'ValidFrom': '2024-09-23T00:00:00.000Z', 'ValidThrough': '2024-10-14T00:00:00.000Z', 'ValidUntil': '2024-10-14T00:00:00.000Z'}, {'Name': 'LED kronljus', 'Price': '89,90\\xa0kr', 'Details': '', 'Store': 'ICA Maxi Stormarknad', 'ValidFrom': '2024-09-23T00:00:00.000Z', 'ValidThrough': '2024-10-14T00:00:00.000Z', 'ValidUntil': '2024-10-14T00:00:00.000Z'}, {'Name': 'Antikljus', 'Price': '44,90\\xa0kr', 'Details': '', 'Store': 'ICA Maxi Stormarknad', 'ValidFrom': '2024-09-23T00:00:00.000Z', 'ValidThrough': '2024-10-14T00:00:00.000Z', 'ValidUntil': '2024-10-14T00:00:00.000Z'}, {'Name': 'Blockljus', 'Price': '20\\xa0kr', 'Details': '', 'Store': 'ICA Maxi Stormarknad', 'ValidFrom': '2024-09-23T00:00:00.000Z', 'ValidThrough': '2024-10-14T00:00:00.000Z', 'ValidUntil': '2024-10-14T00:00:00.000Z'}, {'Name': 'Servetter', 'Price': '29,90\\xa0kr', 'Details': '', 'Store': 'ICA Maxi Stormarknad', 'ValidFrom': '2024-09-23T00:00:00.000Z', 'ValidThrough': '2024-10-14T00:00:00.000Z', 'ValidUntil': '2024-10-14T00:00:00.000Z'}, {'Name': 'Matberedare', 'Price': '999\\xa0kr', 'Details': '', 'Store': 'ICA Maxi Stormarknad', 'ValidFrom': '2024-09-23T00:00:00.000Z', 'ValidThrough': '2024-10-14T00:00:00.000Z', 'ValidUntil': '2024-10-14T00:00:00.000Z'}, {'Name': 'Köksredskap', 'Price': '25\\xa0kr', 'Details': '', 'Store': 'ICA Maxi Stormarknad', 'ValidFrom': '2024-09-23T00:00:00.000Z', 'ValidThrough': '2024-10-14T00:00:00.000Z', 'ValidUntil': '2024-10-14T00:00:00.000Z'}, {'Name': 'Svampkniv', 'Price': '49,90\\xa0kr', 'Details': '', 'Store': 'ICA Maxi Stormarknad', 'ValidFrom': '2024-09-23T00:00:00.000Z', 'ValidThrough': '2024-10-14T00:00:00.000Z', 'ValidUntil': '2024-10-14T00:00:00.000Z'}, {'Name': 'Glasform med plastlock', 'Price': '49,90\\xa0kr', 'Details': '', 'Store': 'ICA Maxi Stormarknad', 'ValidFrom': '2024-09-23T00:00:00.000Z', 'ValidThrough': '2024-10-14T00:00:00.000Z', 'ValidUntil': '2024-10-14T00:00:00.000Z'}, {'Name': 'Easy Fry & Grill XXL 2in1', 'Price': '1\\xa0499\\xa0kr', 'Details': '', 'Store': 'ICA Maxi Stormarknad', 'ValidFrom': '2024-09-23T00:00:00.000Z', 'ValidThrough': '2024-10-14T00:00:00.000Z', 'ValidUntil': '2024-10-14T00:00:00.000Z'}, {'Name': 'Glasform med plastlock', 'Price': '20\\xa0kr', 'Details': '', 'Store': 'ICA Maxi Stormarknad', 'ValidFrom': '2024-09-23T00:00:00.000Z', 'ValidThrough': '2024-10-14T00:00:00.000Z', 'ValidUntil': '2024-10-14T00:00:00.000Z'}, {'Name': '2000 Calorie lip glaze', 'Price': '99\\xa0kr', 'Details': '', 'Store': 'ICA Maxi Stormarknad', 'ValidFrom': '2024-09-23T00:00:00.000Z', 'ValidThrough': '2024-10-07T00:00:00.000Z', 'ValidUntil': '2024-10-07T00:00:00.000Z'}, {'Name': 'Fleecefilt', 'Price': '29,90\\xa0kr', 'Details': '', 'Store': 'ICA Maxi Stormarknad', 'ValidFrom': '2024-09-23T00:00:00.000Z', 'ValidThrough': '2024-10-21T00:00:00.000Z', 'ValidUntil': '2024-10-21T00:00:00.000Z'}, {'Name': 'Hushållsduk 50-pack', 'Price': '20\\xa0kr', 'Details': '', 'Store': 'ICA Maxi Stormarknad', 'ValidFrom': '2024-09-16T00:00:00.000Z', 'ValidThrough': '2024-09-30T00:00:00.000Z', 'ValidUntil': '2024-09-30T00:00:00.000Z'}, {'Name': 'Batterier 10-pack', 'Price': '39,90\\xa0kr', 'Details': '', 'Store': 'ICA Maxi Stormarknad', 'ValidFrom': '2024-09-22T22:00:00.000Z', 'ValidThrough': '2024-09-29T22:00:00.000Z', 'ValidUntil': '2024-09-29T22:00:00.000Z'}, {'Name': 'Laktosfri Vanilj-, fruktyoghurt', 'Price': '45\\xa0kr', 'Details': '2x1 kg• 22,50\\xa0kr/kg', 'Store': 'ICA Maxi Stormarknad', 'ValidFrom': '2024-09-22T22:00:00.000Z', 'ValidThrough': '2024-09-29T22:00:00.000Z', 'ValidUntil': '2024-09-29T22:00:00.000Z'}, {'Name': 'Juice, Fruktdryck, Smoothie', 'Price': '28,90\\xa0kr', 'Details': '750-900 ml• max 38,53\\xa0kr/l', 'Store': 'ICA Maxi Stormarknad', 'ValidFrom': '2024-09-22T22:00:00.000Z', 'ValidThrough': '2024-09-29T22:00:00.000Z', 'ValidUntil': '2024-09-29T22:00:00.000Z'}, {'Name': 'Iskaffe', 'Price': '35\\xa0kr', 'Details': '2x230 ml• 76,09\\xa0kr/l', 'Store': 'ICA Maxi Stormarknad', 'ValidFrom': '2024-09-22T22:00:00.000Z', 'ValidThrough': '2024-09-29T22:00:00.000Z', 'ValidUntil': '2024-09-29T22:00:00.000Z'}, {'Name': 'Intimtvätt, intimservetter', 'Price': '35\\xa0kr', 'Details': '2x200 ml• 87,50\\xa0kr/l', 'Store': 'ICA Maxi Stormarknad', 'ValidFrom': '2024-09-22T22:00:00.000Z', 'ValidThrough': '2024-09-29T22:00:00.000Z', 'ValidUntil': '2024-09-29T22:00:00.000Z'}, {'Name': 'Ägg M/L', 'Price': '40\\xa0kr', 'Details': '', 'Store': 'ICA Maxi Stormarknad', 'ValidFrom': '2024-09-22T22:00:00.000Z', 'ValidThrough': '2024-09-29T22:00:00.000Z', 'ValidUntil': '2024-09-29T22:00:00.000Z'}, {'Name': 'Sax', 'Price': '199\\xa0kr', 'Details': '', 'Store': 'ICA Maxi Stormarknad', 'ValidFrom': '2024-09-23T00:00:00.000Z', 'ValidThrough': '2024-10-14T00:00:00.000Z', 'ValidUntil': '2024-10-14T00:00:00.000Z'}, {'Name': 'Servetter', 'Price': '30\\xa0kr', 'Details': '2 stycken• 15\\xa0kr/var', 'Store': 'ICA Maxi Stormarknad', 'ValidFrom': '2024-09-23T00:00:00.000Z', 'ValidThrough': '2024-10-14T00:00:00.000Z', 'ValidUntil': '2024-10-14T00:00:00.000Z'}, {'Name': 'Schampo, balsam', 'Price': '15\\xa0kr', 'Details': '250 ml• 60\\xa0kr/l', 'Store': 'ICA Maxi Stormarknad', 'ValidFrom': '2024-09-22T22:00:00.000Z', 'ValidThrough': '2024-09-29T22:00:00.000Z', 'ValidUntil': '2024-09-29T22:00:00.000Z'}, {'Name': 'Kronljus', 'Price': '64,90\\xa0kr', 'Details': '', 'Store': 'ICA Maxi Stormarknad', 'ValidFrom': '2024-09-23T00:00:00.000Z', 'ValidThrough': '2024-10-14T00:00:00.000Z', 'ValidUntil': '2024-10-14T00:00:00.000Z'}, {'Name': 'Doftljus', 'Price': '25\\xa0kr', 'Details': '', 'Store': 'ICA Maxi Stormarknad', 'ValidFrom': '2024-09-23T00:00:00.000Z', 'ValidThrough': '2024-10-14T00:00:00.000Z', 'ValidUntil': '2024-10-14T00:00:00.000Z'}, {'Name': 'LED kronljus', 'Price': '79,90\\xa0kr', 'Details': '', 'Store': 'ICA Maxi Stormarknad', 'ValidFrom': '2024-09-23T00:00:00.000Z', 'ValidThrough': '2024-10-14T00:00:00.000Z', 'ValidUntil': '2024-10-14T00:00:00.000Z'}, {'Name': 'True match nude plumping tinted serum', 'Price': '179\\xa0kr', 'Details': '', 'Store': 'ICA Maxi Stormarknad', 'ValidFrom': '2024-09-23T00:00:00.000Z', 'ValidThrough': '2024-10-07T00:00:00.000Z', 'ValidUntil': '2024-10-07T00:00:00.000Z'}, {'Name': 'Flytande tvättmedel', 'Price': '75\\xa0kr', 'Details': '2x920 ml• 40,76\\xa0kr/l', 'Store': 'ICA Maxi Stormarknad', 'ValidFrom': '2024-09-22T22:00:00.000Z', 'ValidThrough': '2024-09-29T22:00:00.000Z', 'ValidUntil': '2024-09-29T22:00:00.000Z'}, {'Name': 'Hushållspapper', 'Price': '39,90\\xa0kr', 'Details': '', 'Store': 'ICA Maxi Stormarknad', 'ValidFrom': '2024-09-22T22:00:00.000Z', 'ValidThrough': '2024-09-29T22:00:00.000Z', 'ValidUntil': '2024-09-29T22:00:00.000Z'}, {'Name': 'Ketchup', 'Price': '30\\xa0kr', 'Details': '980-1\\xa0000 g• max 30,61\\xa0kr/kg', 'Store': 'ICA Maxi Stormarknad', 'ValidFrom': '2024-09-22T22:00:00.000Z', 'ValidThrough': '2024-09-29T22:00:00.000Z', 'ValidUntil': '2024-09-29T22:00:00.000Z'}, {'Name': 'Eldfat', 'Price': '499\\xa0kr', 'Details': '', 'Store': 'ICA Maxi Stormarknad', 'ValidFrom': '2024-09-22T22:00:00.000Z', 'ValidThrough': '2024-09-29T22:00:00.000Z', 'ValidUntil': '2024-09-29T22:00:00.000Z'}, {'Name': 'Toffla', 'Price': '79,90\\xa0kr', 'Details': '', 'Store': 'ICA Maxi Stormarknad', 'ValidFrom': '2024-09-23T00:00:00.000Z', 'ValidThrough': '2024-10-21T00:00:00.000Z', 'ValidUntil': '2024-10-21T00:00:00.000Z'}, {'Name': 'Fleecefilt', 'Price': '29,90\\xa0kr', 'Details': '', 'Store': 'ICA Maxi Stormarknad', 'ValidFrom': '2024-09-23T00:00:00.000Z', 'ValidThrough': '2024-10-21T00:00:00.000Z', 'ValidUntil': '2024-10-21T00:00:00.000Z'}, {'Name': 'Rivjärn', 'Price': '99\\xa0kr', 'Details': '', 'Store': 'ICA Maxi Stormarknad', 'ValidFrom': '2024-09-23T00:00:00.000Z', 'ValidThrough': '2024-10-14T00:00:00.000Z', 'ValidUntil': '2024-10-14T00:00:00.000Z'}, {'Name': 'Vaniljyoghurt, världens smaker', 'Price': '40\\xa0kr', 'Details': '2x1 kg• 20\\xa0kr/kg', 'Store': 'ICA Maxi Stormarknad', 'ValidFrom': '2024-09-22T22:00:00.000Z', 'ValidThrough': '2024-09-29T22:00:00.000Z', 'ValidUntil': '2024-09-29T22:00:00.000Z'}, {'Name': 'Zip-LED', 'Price': '40\\xa0kr', 'Details': '2 stycken• 20\\xa0kr/var', 'Store': 'ICA Maxi Stormarknad', 'ValidFrom': '2024-09-22T22:00:00.000Z', 'ValidThrough': '2024-09-29T22:00:00.000Z', 'ValidUntil': '2024-09-29T22:00:00.000Z'}, {'Name': 'Stekpanna Functional Form', 'Price': '349\\xa0kr', 'Details': '', 'Store': 'ICA Maxi Stormarknad', 'ValidFrom': '2024-09-23T00:00:00.000Z', 'ValidThrough': '2024-10-14T00:00:00.000Z', 'ValidUntil': '2024-10-14T00:00:00.000Z'}, {'Name': 'Wettex Rosa bandet 4p', 'Price': '35\\xa0kr', 'Details': '2 stycken• 17,50\\xa0kr/var', 'Store': 'ICA Maxi Stormarknad', 'ValidFrom': '2024-09-22T22:00:00.000Z', 'ValidThrough': '2024-09-29T22:00:00.000Z', 'ValidUntil': '2024-09-29T22:00:00.000Z'}, {'Name': 'Glasflaska', 'Price': '34,90\\xa0kr', 'Details': '', 'Store': 'ICA Maxi Stormarknad', 'ValidFrom': '2024-09-23T00:00:00.000Z', 'ValidThrough': '2024-10-14T00:00:00.000Z', 'ValidUntil': '2024-10-14T00:00:00.000Z'}, {'Name': 'Kockkniv', 'Price': '159\\xa0kr', 'Details': '', 'Store': 'ICA Maxi Stormarknad', 'ValidFrom': '2024-09-23T00:00:00.000Z', 'ValidThrough': '2024-10-14T00:00:00.000Z', 'ValidUntil': '2024-10-14T00:00:00.000Z'}, {'Name': 'Sax', 'Price': '199\\xa0kr', 'Details': '', 'Store': 'ICA Maxi Stormarknad', 'ValidFrom': '2024-09-23T00:00:00.000Z', 'ValidThrough': '2024-10-14T00:00:00.000Z', 'ValidUntil': '2024-10-14T00:00:00.000Z'}, {'Name': 'Kockkniv', 'Price': '179\\xa0kr', 'Details': '', 'Store': 'ICA Maxi Stormarknad', 'ValidFrom': '2024-09-23T00:00:00.000Z', 'ValidThrough': '2024-10-14T00:00:00.000Z', 'ValidUntil': '2024-10-14T00:00:00.000Z'}, {'Name': 'Nattlinne', 'Price': '179\\xa0kr', 'Details': '', 'Store': 'ICA Maxi Stormarknad', 'ValidFrom': '2024-09-22T22:00:00.000Z', 'ValidThrough': '2024-09-29T22:00:00.000Z', 'ValidUntil': '2024-09-29T22:00:00.000Z'}, {'Name': 'Trådlös högtalare', 'Price': '999\\xa0kr', 'Details': '', 'Store': 'ICA Maxi Stormarknad', 'ValidFrom': '2024-09-22T22:00:00.000Z', 'ValidThrough': '2024-09-29T22:00:00.000Z', 'ValidUntil': '2024-09-29T22:00:00.000Z'}, {'Name': 'Trådlösa Hörlurar', 'Price': '799\\xa0kr', 'Details': '', 'Store': 'ICA Maxi Stormarknad', 'ValidFrom': '2024-09-22T22:00:00.000Z', 'ValidThrough': '2024-09-29T22:00:00.000Z', 'ValidUntil': '2024-09-29T22:00:00.000Z'}, {'Name': 'Bamseböcker', 'Price': '99\\xa0kr', 'Details': '2 stycken• 49,50\\xa0kr/var', 'Store': 'ICA Maxi Stormarknad', 'ValidFrom': '2024-09-22T22:00:00.000Z', 'ValidThrough': '2024-09-29T22:00:00.000Z', 'ValidUntil': '2024-09-29T22:00:00.000Z'}, {'Name': 'Lokattens klor', 'Price': '229\\xa0kr', 'Details': '', 'Store': 'ICA Maxi Stormarknad', 'ValidFrom': '2024-09-22T22:00:00.000Z', 'ValidThrough': '2024-09-29T22:00:00.000Z', 'ValidUntil': '2024-09-29T22:00:00.000Z'}, {'Name': 'Sömngångaren', 'Price': '199\\xa0kr', 'Details': '', 'Store': 'ICA Maxi Stormarknad', 'ValidFrom': '2024-09-22T22:00:00.000Z', 'ValidThrough': '2024-09-29T22:00:00.000Z', 'ValidUntil': '2024-09-29T22:00:00.000Z'}, {'Name': 'Tekniker, tips & genvägar', 'Price': '229\\xa0kr', 'Details': '', 'Store': 'ICA Maxi Stormarknad', 'ValidFrom': '2024-09-22T22:00:00.000Z', 'ValidThrough': '2024-09-29T22:00:00.000Z', 'ValidUntil': '2024-09-29T22:00:00.000Z'}, {'Name': 'Elvisp', 'Price': '299\\xa0kr', 'Details': '', 'Store': 'ICA Maxi Stormarknad', 'ValidFrom': '2024-09-22T22:00:00.000Z', 'ValidThrough': '2024-09-29T22:00:00.000Z', 'ValidUntil': '2024-09-29T22:00:00.000Z'}, {'Name': 'Fågelmatare Kåtan', 'Price': '99\\xa0kr', 'Details': '', 'Store': 'ICA Maxi Stormarknad', 'ValidFrom': '2024-09-22T22:00:00.000Z', 'ValidThrough': '2024-09-29T22:00:00.000Z', 'ValidUntil': '2024-09-29T22:00:00.000Z'}, {'Name': 'Satsumas', 'Price': '25\\xa0kr', 'Details': '1 kg• 25\\xa0kr/kg', 'Store': 'ICA Maxi Stormarknad', 'ValidFrom': '2024-09-22T22:00:00.000Z', 'ValidThrough': '2024-09-29T22:00:00.000Z', 'ValidUntil': '2024-09-29T22:00:00.000Z'}, {'Name': 'Salami', 'Price': '40\\xa0kr', 'Details': '2x70-80 g• max 285,71\\xa0kr/kg', 'Store': 'ICA Maxi Stormarknad', 'ValidFrom': '2024-09-22T22:00:00.000Z', 'ValidThrough': '2024-09-29T22:00:00.000Z', 'ValidUntil': '2024-09-29T22:00:00.000Z'}, {'Name': 'Mjukost', 'Price': '30\\xa0kr', 'Details': '330 g• 90,91\\xa0kr/kg', 'Store': 'ICA Maxi Stormarknad', 'ValidFrom': '2024-09-22T22:00:00.000Z', 'ValidThrough': '2024-09-29T22:00:00.000Z', 'ValidUntil': '2024-09-29T22:00:00.000Z'}, {'Name': 'Kaffebryggare', 'Price': '1\\xa0099\\xa0kr', 'Details': '', 'Store': 'ICA Maxi Stormarknad', 'ValidFrom': '2024-09-23T00:00:00.000Z', 'ValidThrough': '2024-10-14T00:00:00.000Z', 'ValidUntil': '2024-10-14T00:00:00.000Z'}, {'Name': 'Förvaringsburk', 'Price': '89\\xa0kr', 'Details': '', 'Store': 'ICA Maxi Stormarknad', 'ValidFrom': '2024-09-23T00:00:00.000Z', 'ValidThrough': '2024-10-14T00:00:00.000Z', 'ValidUntil': '2024-10-14T00:00:00.000Z'}, {'Name': 'Ekologiskt surdegs-, rågbröd', 'Price': '21,90\\xa0kr', 'Details': '300-350 g• max 73\\xa0kr/kg', 'Store': 'ICA Maxi Stormarknad', 'ValidFrom': '2024-09-22T22:00:00.000Z', 'ValidThrough': '2024-09-29T22:00:00.000Z', 'ValidUntil': '2024-09-29T22:00:00.000Z'}, {'Name': 'Ris-, majskakor', 'Price': '35\\xa0kr', 'Details': '2x120-130 g• max 145,83\\xa0kr/kg', 'Store': 'ICA Maxi Stormarknad', 'ValidFrom': '2024-09-22T22:00:00.000Z', 'ValidThrough': '2024-09-29T22:00:00.000Z', 'ValidUntil': '2024-09-29T22:00:00.000Z'}, {'Name': 'Lingongrova, Guldkorn, Lingongrova special', 'Price': '20,90\\xa0kr', 'Details': '500 g• 41,80\\xa0kr/kg', 'Store': 'ICA Maxi Stormarknad', 'ValidFrom': '2024-09-22T22:00:00.000Z', 'ValidThrough': '2024-09-29T22:00:00.000Z', 'ValidUntil': '2024-09-29T22:00:00.000Z'}, {'Name': 'Enportionsrätter', 'Price': '100\\xa0kr', 'Details': '4x380-440 g• max 65,79\\xa0kr/kg', 'Store': 'ICA Maxi Stormarknad', 'ValidFrom': '2024-09-22T22:00:00.000Z', 'ValidThrough': '2024-09-29T22:00:00.000Z', 'ValidUntil': '2024-09-29T22:00:00.000Z'}, {'Name': 'Fryst kycklingfilé', 'Price': '179\\xa0kr', 'Details': '2x1\\xa0000 g• 89,50\\xa0kr/kg', 'Store': 'ICA Maxi Stormarknad', 'ValidFrom': '2024-09-22T22:00:00.000Z', 'ValidThrough': '2024-09-29T22:00:00.000Z', 'ValidUntil': '2024-09-29T22:00:00.000Z'}, {'Name': 'Ekologiska frysta bär', 'Price': '30\\xa0kr', 'Details': '2x250 g• 60\\xa0kr/kg', 'Store': 'ICA Maxi Stormarknad', 'ValidFrom': '2024-09-22T22:00:00.000Z', 'ValidThrough': '2024-09-29T22:00:00.000Z', 'ValidUntil': '2024-09-29T22:00:00.000Z'}, {'Name': 'Frysta räkor med skal 70/90', 'Price': '115\\xa0kr', 'Details': '1\\xa0000 g• 115\\xa0kr/kg', 'Store': 'ICA Maxi Stormarknad', 'ValidFrom': '2024-09-22T22:00:00.000Z', 'ValidThrough': '2024-09-29T22:00:00.000Z', 'ValidUntil': '2024-09-29T22:00:00.000Z'}, {'Name': 'Fryst pizza Ristorante', 'Price': '90\\xa0kr', 'Details': '3x320-360 g• max 93,75\\xa0kr/kg', 'Store': 'ICA Maxi Stormarknad', 'ValidFrom': '2024-09-22T22:00:00.000Z', 'ValidThrough': '2024-09-29T22:00:00.000Z', 'ValidUntil': '2024-09-29T22:00:00.000Z'}, {'Name': 'Gräddglass', 'Price': '33,90\\xa0kr', 'Details': '1,5 l• 22,60\\xa0kr/l', 'Store': 'ICA Maxi Stormarknad', 'ValidFrom': '2024-09-22T22:00:00.000Z', 'ValidThrough': '2024-09-29T22:00:00.000Z', 'ValidUntil': '2024-09-29T22:00:00.000Z'}, {'Name': 'Fryst vego', 'Price': '30\\xa0kr', 'Details': '280 g• 107,14\\xa0kr/kg', 'Store': 'ICA Maxi Stormarknad', 'ValidFrom': '2024-09-22T22:00:00.000Z', 'ValidThrough': '2024-09-29T22:00:00.000Z', 'ValidUntil': '2024-09-29T22:00:00.000Z'}, {'Name': 'Kaffebryggare', 'Price': '599\\xa0kr', 'Details': '', 'Store': 'ICA Maxi Stormarknad', 'ValidFrom': '2024-09-23T00:00:00.000Z', 'ValidThrough': '2024-10-14T00:00:00.000Z', 'ValidUntil': '2024-10-14T00:00:00.000Z'}, {'Name': 'Skärbräda', 'Price': '69,90\\xa0kr', 'Details': '', 'Store': 'ICA Maxi Stormarknad', 'ValidFrom': '2024-09-23T00:00:00.000Z', 'ValidThrough': '2024-10-14T00:00:00.000Z', 'ValidUntil': '2024-10-14T00:00:00.000Z'}, {'Name': 'Airfryer', 'Price': '999\\xa0kr', 'Details': '', 'Store': 'ICA Maxi Stormarknad', 'ValidFrom': '2024-09-23T00:00:00.000Z', 'ValidThrough': '2024-10-14T00:00:00.000Z', 'ValidUntil': '2024-10-14T00:00:00.000Z'}, {'Name': 'Ugnsform', 'Price': '99\\xa0kr', 'Details': '', 'Store': 'ICA Maxi Stormarknad', 'ValidFrom': '2024-09-23T00:00:00.000Z', 'ValidThrough': '2024-10-14T00:00:00.000Z', 'ValidUntil': '2024-10-14T00:00:00.000Z'}, {'Name': 'Enportionsrätter', 'Price': '100\\xa0kr', 'Details': '4x380-440 g• max 65,79\\xa0kr/kg', 'Store': 'ICA Maxi Stormarknad', 'ValidFrom': '2024-09-22T22:00:00.000Z', 'ValidThrough': '2024-09-29T22:00:00.000Z', 'ValidUntil': '2024-09-29T22:00:00.000Z'}, {'Name': 'Fryst kycklingfilé', 'Price': '179\\xa0kr', 'Details': '2x1\\xa0000 g• 89,50\\xa0kr/kg', 'Store': 'ICA Maxi Stormarknad', 'ValidFrom': '2024-09-22T22:00:00.000Z', 'ValidThrough': '2024-09-29T22:00:00.000Z', 'ValidUntil': '2024-09-29T22:00:00.000Z'}, {'Name': 'Ekologiska frysta bär', 'Price': '30\\xa0kr', 'Details': '2x250 g• 60\\xa0kr/kg', 'Store': 'ICA Maxi Stormarknad', 'ValidFrom': '2024-09-22T22:00:00.000Z', 'ValidThrough': '2024-09-29T22:00:00.000Z', 'ValidUntil': '2024-09-29T22:00:00.000Z'}, {'Name': 'Frysta räkor med skal 70/90', 'Price': '115\\xa0kr', 'Details': '1\\xa0000 g• 115\\xa0kr/kg', 'Store': 'ICA Maxi Stormarknad', 'ValidFrom': '2024-09-22T22:00:00.000Z', 'ValidThrough': '2024-09-29T22:00:00.000Z', 'ValidUntil': '2024-09-29T22:00:00.000Z'}, {'Name': 'Fryst pizza Ristorante', 'Price': '90\\xa0kr', 'Details': '3x320-360 g• max 93,75\\xa0kr/kg', 'Store': 'ICA Maxi Stormarknad', 'ValidFrom': '2024-09-22T22:00:00.000Z', 'ValidThrough': '2024-09-29T22:00:00.000Z', 'ValidUntil': '2024-09-29T22:00:00.000Z'}, {'Name': 'Gräddglass', 'Price': '33,90\\xa0kr', 'Details': '1,5 l• 22,60\\xa0kr/l', 'Store': 'ICA Maxi Stormarknad', 'ValidFrom': '2024-09-22T22:00:00.000Z', 'ValidThrough': '2024-09-29T22:00:00.000Z', 'ValidUntil': '2024-09-29T22:00:00.000Z'}, {'Name': 'Fryst vego', 'Price': '30\\xa0kr', 'Details': '280 g• 107,14\\xa0kr/kg', 'Store': 'ICA Maxi Stormarknad', 'ValidFrom': '2024-09-22T22:00:00.000Z', 'ValidThrough': '2024-09-29T22:00:00.000Z', 'ValidUntil': '2024-09-29T22:00:00.000Z'}, {'Name': 'Glass', 'Price': '49,90\\xa0kr', 'Details': '500 ml• 99,80\\xa0kr/l', 'Store': 'ICA Maxi Stormarknad', 'ValidFrom': '2024-09-22T22:00:00.000Z', 'ValidThrough': '2024-09-29T22:00:00.000Z', 'ValidUntil': '2024-09-29T22:00:00.000Z'}, {'Name': 'Antikljus', 'Price': '44,90\\xa0kr', 'Details': '', 'Store': 'ICA Maxi Stormarknad', 'ValidFrom': '2024-09-23T00:00:00.000Z', 'ValidThrough': '2024-10-14T00:00:00.000Z', 'ValidUntil': '2024-10-14T00:00:00.000Z'}, {'Name': 'Kylskåpsförvaring', 'Price': '29,90\\xa0kr', 'Details': '', 'Store': 'ICA Maxi Stormarknad', 'ValidFrom': '2024-09-23T00:00:00.000Z', 'ValidThrough': '2024-10-14T00:00:00.000Z', 'ValidUntil': '2024-10-14T00:00:00.000Z'}, {'Name': 'Kylskåpsförvaring', 'Price': '59,90\\xa0kr', 'Details': '', 'Store': 'ICA Maxi Stormarknad', 'ValidFrom': '2024-09-23T00:00:00.000Z', 'ValidThrough': '2024-10-14T00:00:00.000Z', 'ValidUntil': '2024-10-14T00:00:00.000Z'}, {'Name': 'Matberedare', 'Price': '999\\xa0kr', 'Details': '', 'Store': 'ICA Maxi Stormarknad', 'ValidFrom': '2024-09-23T00:00:00.000Z', 'ValidThrough': '2024-10-14T00:00:00.000Z', 'ValidUntil': '2024-10-14T00:00:00.000Z'}, {'Name': 'Stekpanna Recyled', 'Price': '199\\xa0kr', 'Details': '', 'Store': 'ICA Maxi Stormarknad', 'ValidFrom': '2024-09-23T00:00:00.000Z', 'ValidThrough': '2024-10-14T00:00:00.000Z', 'ValidUntil': '2024-10-14T00:00:00.000Z'}, {'Name': 'Hushållsduk 50-pack', 'Price': '20\\xa0kr', 'Details': '', 'Store': 'ICA Maxi Stormarknad', 'ValidFrom': '2024-09-16T00:00:00.000Z', 'ValidThrough': '2024-09-30T00:00:00.000Z', 'ValidUntil': '2024-09-30T00:00:00.000Z'}, {'Name': 'Reflexhänge', 'Price': '30\\xa0kr', 'Details': '2 stycken• 15\\xa0kr/var', 'Store': 'ICA Maxi Stormarknad', 'ValidFrom': '2024-09-22T22:00:00.000Z', 'ValidThrough': '2024-09-29T22:00:00.000Z', 'ValidUntil': '2024-09-29T22:00:00.000Z'}, {'Name': 'Batterier 10-pack', 'Price': '39,90\\xa0kr', 'Details': '', 'Store': 'ICA Maxi Stormarknad', 'ValidFrom': '2024-09-22T22:00:00.000Z', 'ValidThrough': '2024-09-29T22:00:00.000Z', 'ValidUntil': '2024-09-29T22:00:00.000Z'}, {'Name': 'Stavmixer', 'Price': '299\\xa0kr', 'Details': '', 'Store': 'ICA Maxi Stormarknad', 'ValidFrom': '2024-09-23T00:00:00.000Z', 'ValidThrough': '2024-10-14T00:00:00.000Z', 'ValidUntil': '2024-10-14T00:00:00.000Z'}, {'Name': 'Skärbräda', 'Price': '39,90\\xa0kr', 'Details': '', 'Store': 'ICA Maxi Stormarknad', 'ValidFrom': '2024-09-23T00:00:00.000Z', 'ValidThrough': '2024-10-14T00:00:00.000Z', 'ValidUntil': '2024-10-14T00:00:00.000Z'}, {'Name': 'Turbo Smart', 'Price': '359\\xa0kr', 'Details': '', 'Store': 'ICA Maxi Stormarknad', 'ValidFrom': '2024-09-22T22:00:00.000Z', 'ValidThrough': '2024-09-29T22:00:00.000Z', 'ValidUntil': '2024-09-29T22:00:00.000Z'}, {'Name': 'Iskaffe', 'Price': '35\\xa0kr', 'Details': '2x230 ml• 76,09\\xa0kr/l', 'Store': 'ICA Maxi Stormarknad', 'ValidFrom': '2024-09-22T22:00:00.000Z', 'ValidThrough': '2024-09-29T22:00:00.000Z', 'ValidUntil': '2024-09-29T22:00:00.000Z'}, {'Name': 'Glasburkar', 'Price': '44,90\\xa0kr', 'Details': '', 'Store': 'ICA Maxi Stormarknad', 'ValidFrom': '2024-09-23T00:00:00.000Z', 'ValidThrough': '2024-10-14T00:00:00.000Z', 'ValidUntil': '2024-10-14T00:00:00.000Z'}, {'Name': 'Servetter', 'Price': '30\\xa0kr', 'Details': '2 stycken• 15\\xa0kr/var', 'Store': 'ICA Maxi Stormarknad', 'ValidFrom': '2024-09-23T00:00:00.000Z', 'ValidThrough': '2024-10-14T00:00:00.000Z', 'ValidUntil': '2024-10-14T00:00:00.000Z'}, {'Name': 'Värmeljus stora', 'Price': '29,90\\xa0kr', 'Details': '', 'Store': 'ICA Maxi Stormarknad', 'ValidFrom': '2024-09-23T00:00:00.000Z', 'ValidThrough': '2024-10-14T00:00:00.000Z', 'ValidUntil': '2024-10-14T00:00:00.000Z'}, {'Name': 'Kronljus', 'Price': '64,90\\xa0kr', 'Details': '', 'Store': 'ICA Maxi Stormarknad', 'ValidFrom': '2024-09-23T00:00:00.000Z', 'ValidThrough': '2024-10-14T00:00:00.000Z', 'ValidUntil': '2024-10-14T00:00:00.000Z'}, {'Name': 'Tändkuber', 'Price': '49,90\\xa0kr', 'Details': '', 'Store': 'ICA Maxi Stormarknad', 'ValidFrom': '2024-09-22T22:00:00.000Z', 'ValidThrough': '2024-09-29T22:00:00.000Z', 'ValidUntil': '2024-09-29T22:00:00.000Z'}, {'Name': 'Doftljus', 'Price': '25\\xa0kr', 'Details': '', 'Store': 'ICA Maxi Stormarknad', 'ValidFrom': '2024-09-23T00:00:00.000Z', 'ValidThrough': '2024-10-14T00:00:00.000Z', 'ValidUntil': '2024-10-14T00:00:00.000Z'}, {'Name': 'LED kronljus', 'Price': '79,90\\xa0kr', 'Details': '', 'Store': 'ICA Maxi Stormarknad', 'ValidFrom': '2024-09-23T00:00:00.000Z', 'ValidThrough': '2024-10-14T00:00:00.000Z', 'ValidUntil': '2024-10-14T00:00:00.000Z'}, {'Name': 'Glasburkar', 'Price': '49,90\\xa0kr', 'Details': '', 'Store': 'ICA Maxi Stormarknad', 'ValidFrom': '2024-09-23T00:00:00.000Z', 'ValidThrough': '2024-10-14T00:00:00.000Z', 'ValidUntil': '2024-10-14T00:00:00.000Z'}, {'Name': 'Strumpa 1-pack', 'Price': '30\\xa0kr', 'Details': '2 stycken• 15\\xa0kr/var', 'Store': 'ICA Maxi Stormarknad', 'ValidFrom': '2024-09-23T00:00:00.000Z', 'ValidThrough': '2025-01-01T00:00:00.000Z', 'ValidUntil': '2025-01-01T00:00:00.000Z'}, {'Name': 'Paraplyaralia, Tulpaner 9-pack, Ytterkruka', 'Price': '69\\xa0kr', 'Details': '', 'Store': 'ICA Maxi Stormarknad', 'ValidFrom': '2024-09-22T22:00:00.000Z', 'ValidThrough': '2024-09-29T22:00:00.000Z', 'ValidUntil': '2024-09-29T22:00:00.000Z'}, {'Name': 'Hårtoning', 'Price': '59\\xa0kr', 'Details': '', 'Store': 'ICA Maxi Stormarknad', 'ValidFrom': '2024-09-22T22:00:00.000Z', 'ValidThrough': '2024-09-29T22:00:00.000Z', 'ValidUntil': '2024-09-29T22:00:00.000Z'}, {'Name': 'Paradise Lumi Glotion', 'Price': '129\\xa0kr', 'Details': '', 'Store': 'ICA Maxi Stormarknad', 'ValidFrom': '2024-09-23T00:00:00.000Z', 'ValidThrough': '2024-10-07T00:00:00.000Z', 'ValidUntil': '2024-10-07T00:00:00.000Z'}, {'Name': 'True match nude plumping tinted serum', 'Price': '179\\xa0kr', 'Details': '', 'Store': 'ICA Maxi Stormarknad', 'ValidFrom': '2024-09-23T00:00:00.000Z', 'ValidThrough': '2024-10-07T00:00:00.000Z', 'ValidUntil': '2024-10-07T00:00:00.000Z'}, {'Name': 'Hushållspapper', 'Price': '39,90\\xa0kr', 'Details': '', 'Store': 'ICA Maxi Stormarknad', 'ValidFrom': '2024-09-22T22:00:00.000Z', 'ValidThrough': '2024-09-29T22:00:00.000Z', 'ValidUntil': '2024-09-29T22:00:00.000Z'}, {'Name': 'Ketchup', 'Price': '30\\xa0kr', 'Details': '980-1\\xa0000 g• max 30,61\\xa0kr/kg', 'Store': 'ICA Maxi Stormarknad', 'ValidFrom': '2024-09-22T22:00:00.000Z', 'ValidThrough': '2024-09-29T22:00:00.000Z', 'ValidUntil': '2024-09-29T22:00:00.000Z'}, {'Name': 'Blush, glow, contour stick', 'Price': '129\\xa0kr', 'Details': '', 'Store': 'ICA Maxi Stormarknad', 'ValidFrom': '2024-09-23T00:00:00.000Z', 'ValidThrough': '2024-10-07T00:00:00.000Z', 'ValidUntil': '2024-10-07T00:00:00.000Z'}, {'Name': 'Allrengöringssvamp', 'Price': '25\\xa0kr', 'Details': '2 stycken• 12,50\\xa0kr/var', 'Store': 'ICA Maxi Stormarknad', 'ValidFrom': '2024-09-22T22:00:00.000Z', 'ValidThrough': '2024-09-29T22:00:00.000Z', 'ValidUntil': '2024-09-29T22:00:00.000Z'}, {'Name': 'Tandborstrefill 6-pack', 'Price': '199\\xa0kr', 'Details': '', 'Store': 'ICA Maxi Stormarknad', 'ValidFrom': '2024-09-22T22:00:00.000Z', 'ValidThrough': '2024-09-29T22:00:00.000Z', 'ValidUntil': '2024-09-29T22:00:00.000Z'}, {'Name': 'Olivolja classico', 'Price': '89\\xa0kr', 'Details': '500 ml• 178\\xa0kr/l', 'Store': 'ICA Maxi Stormarknad', 'ValidFrom': '2024-09-22T22:00:00.000Z', 'ValidThrough': '2024-09-29T22:00:00.000Z', 'ValidUntil': '2024-09-29T22:00:00.000Z'}, {'Name': 'Te', 'Price': '39\\xa0kr', 'Details': '2 stycken• 19,50\\xa0kr/var', 'Store': 'ICA Maxi Stormarknad', 'ValidFrom': '2024-09-22T22:00:00.000Z', 'ValidThrough': '2024-09-29T22:00:00.000Z', 'ValidUntil': '2024-09-29T22:00:00.000Z'}, {'Name': 'Granola', 'Price': '79\\xa0kr', 'Details': '2x430-450 g• max 91,86\\xa0kr/kg', 'Store': 'ICA Maxi Stormarknad', 'ValidFrom': '2024-09-22T22:00:00.000Z', 'ValidThrough': '2024-09-29T22:00:00.000Z', 'ValidUntil': '2024-09-29T22:00:00.000Z'}, {'Name': 'Trådlösa Hörlurar', 'Price': '799\\xa0kr', 'Details': '', 'Store': 'ICA Maxi Stormarknad', 'ValidFrom': '2024-09-22T22:00:00.000Z', 'ValidThrough': '2024-09-29T22:00:00.000Z', 'ValidUntil': '2024-09-29T22:00:00.000Z'}, {'Name': 'Bamseböcker', 'Price': '99\\xa0kr', 'Details': '2 stycken• 49,50\\xa0kr/var', 'Store': 'ICA Maxi Stormarknad', 'ValidFrom': '2024-09-22T22:00:00.000Z', 'ValidThrough': '2024-09-29T22:00:00.000Z', 'ValidUntil': '2024-09-29T22:00:00.000Z'}, {'Name': 'Lokattens klor', 'Price': '229\\xa0kr', 'Details': '', 'Store': 'ICA Maxi Stormarknad', 'ValidFrom': '2024-09-22T22:00:00.000Z', 'ValidThrough': '2024-09-29T22:00:00.000Z', 'ValidUntil': '2024-09-29T22:00:00.000Z'}, {'Name': 'Blender', 'Price': '299\\xa0kr', 'Details': '', 'Store': 'ICA Maxi Stormarknad', 'ValidFrom': '2024-09-22T22:00:00.000Z', 'ValidThrough': '2024-09-29T22:00:00.000Z', 'ValidUntil': '2024-09-29T22:00:00.000Z'}, {'Name': 'Köksvåg', 'Price': '99\\xa0kr', 'Details': '', 'Store': 'ICA Maxi Stormarknad', 'ValidFrom': '2024-09-22T22:00:00.000Z', 'ValidThrough': '2024-09-29T22:00:00.000Z', 'ValidUntil': '2024-09-29T22:00:00.000Z'}, {'Name': 'PET-flaska', 'Price': '79\\xa0kr', 'Details': '', 'Store': 'ICA Maxi Stormarknad', 'ValidFrom': '2024-09-22T22:00:00.000Z', 'ValidThrough': '2024-09-29T22:00:00.000Z', 'ValidUntil': '2024-09-29T22:00:00.000Z'}, {'Name': 'Värmeljus', 'Price': '35\\xa0kr', 'Details': '', 'Store': 'ICA Maxi Stormarknad', 'ValidFrom': '2024-09-22T22:00:00.000Z', 'ValidThrough': '2024-09-29T22:00:00.000Z', 'ValidUntil': '2024-09-29T22:00:00.000Z'}, {'Name': 'Snabbkaffe refill', 'Price': '69,90\\xa0kr', 'Details': '200 g• 349,50\\xa0kr/kg', 'Store': 'ICA Maxi Stormarknad', 'ValidFrom': '2024-09-22T22:00:00.000Z', 'ValidThrough': '2024-09-29T22:00:00.000Z', 'ValidUntil': '2024-09-29T22:00:00.000Z'}, {'Name': 'Toalettpapper', 'Price': '59\\xa0kr', 'Details': '', 'Store': 'ICA Maxi Stormarknad', 'ValidFrom': '2024-09-22T22:00:00.000Z', 'ValidThrough': '2024-09-29T22:00:00.000Z', 'ValidUntil': '2024-09-29T22:00:00.000Z'}, {'Name': 'Fläckborttagning', 'Price': '49,90\\xa0kr', 'Details': '440-470 g• max 113,41\\xa0kr/kg', 'Store': 'ICA Maxi Stormarknad', 'ValidFrom': '2024-09-22T22:00:00.000Z', 'ValidThrough': '2024-09-29T22:00:00.000Z', 'ValidUntil': '2024-09-29T22:00:00.000Z'}, {'Name': 'Ljung Calluna vulgaris Garden girls mix 1-p', 'Price': '99\\xa0kr', 'Details': '4 stycken• 24,75\\xa0kr/var', 'Store': 'ICA Maxi Stormarknad', 'ValidFrom': '2024-09-22T22:00:00.000Z', 'ValidThrough': '2024-09-29T22:00:00.000Z', 'ValidUntil': '2024-09-29T22:00:00.000Z'}, {'Name': 'Kycklingbröstfilé/Kycklinglårfilé', 'Price': '179\\xa0kr', 'Details': '2x720 g• 124,31\\xa0kr/kg', 'Store': 'ICA Maxi Stormarknad', 'ValidFrom': '2024-09-24T00:00:00.000Z', 'ValidThrough': '2024-09-30T00:00:00.000Z', 'ValidUntil': '2024-09-30T00:00:00.000Z'}, {'Name': 'Fläskestek', 'Price': '84,95\\xa0kr', 'Details': '1 kg• 84,95\\xa0kr/kg', 'Store': 'ICA Maxi Stormarknad', 'ValidFrom': '2024-09-24T00:00:00.000Z', 'ValidThrough': '2024-09-30T00:00:00.000Z', 'ValidUntil': '2024-09-30T00:00:00.000Z'}, {'Name': 'Spareribs', 'Price': '64,95\\xa0kr', 'Details': '500 g• 129,90\\xa0kr/kg', 'Store': 'ICA Maxi Stormarknad', 'ValidFrom': '2024-09-24T00:00:00.000Z', 'ValidThrough': '2024-10-14T00:00:00.000Z', 'ValidUntil': '2024-10-14T00:00:00.000Z'}, {'Name': 'Majskoner Choklad/Kaka', 'Price': '20\\xa0kr', 'Details': '100 g• 200\\xa0kr/kg', 'Store': 'ICA Maxi Stormarknad', 'ValidFrom': '2024-09-24T00:00:00.000Z', 'ValidThrough': '2024-10-07T00:00:00.000Z', 'ValidUntil': '2024-10-07T00:00:00.000Z'}, {'Name': 'Spareribs', 'Price': '64,95\\xa0kr', 'Details': '500 g• 129,90\\xa0kr/kg', 'Store': 'ICA Maxi Stormarknad', 'ValidFrom': '2024-09-24T00:00:00.000Z', 'ValidThrough': '2024-10-14T00:00:00.000Z', 'ValidUntil': '2024-10-14T00:00:00.000Z'}, {'Name': 'Oxfilé bit', 'Price': '389\\xa0kr', 'Details': '1 kg• 389\\xa0kr/kg', 'Store': 'ICA Maxi Stormarknad', 'ValidFrom': '2024-09-24T00:00:00.000Z', 'ValidThrough': '2024-09-30T00:00:00.000Z', 'ValidUntil': '2024-09-30T00:00:00.000Z'}, {'Name': 'Kattsnacks Gopinnar med nötkött 15g', 'Price': '12\\xa0kr', 'Details': '2 stycken• 6\\xa0kr/var', 'Store': 'ICA Maxi Stormarknad', 'ValidFrom': '2024-09-10T00:00:00.000Z', 'ValidThrough': '2024-10-09T00:00:00.000Z', 'ValidUntil': '2024-10-09T00:00:00.000Z'}, {'Name': 'Sköljmedel', 'Price': '20\\xa0kr', 'Details': '750 ml• 26,67\\xa0kr/l', 'Store': 'ICA Maxi Stormarknad', 'ValidFrom': '2024-09-24T00:00:00.000Z', 'ValidThrough': '2024-10-23T00:00:00.000Z', 'ValidUntil': '2024-10-23T00:00:00.000Z'}, {'Name': 'Majskoner Choklad/Kaka', 'Price': '20\\xa0kr', 'Details': '100 g• 200\\xa0kr/kg', 'Store': 'ICA Maxi Stormarknad', 'ValidFrom': '2024-09-24T00:00:00.000Z', 'ValidThrough': '2024-10-07T00:00:00.000Z', 'ValidUntil': '2024-10-07T00:00:00.000Z'}, {'Name': 'Fruktstång 1-3år 25g', 'Price': '24\\xa0kr', 'Details': '3x25 g• 320\\xa0kr/kg', 'Store': 'ICA Maxi Stormarknad', 'ValidFrom': '2024-09-24T00:00:00.000Z', 'ValidThrough': '2024-10-02T00:00:00.000Z', 'ValidUntil': '2024-10-02T00:00:00.000Z'}, {'Name': 'Fruktstång 5-p', 'Price': '17,95\\xa0kr', 'Details': '5x20 g• 179,50\\xa0kr/kg', 'Store': 'ICA Maxi Stormarknad', 'ValidFrom': '2024-09-24T00:00:00.000Z', 'ValidThrough': '2024-10-23T00:00:00.000Z', 'ValidUntil': '2024-10-23T00:00:00.000Z'}, {'Name': 'Kattsnacks Party mix Original/Seaside 200g', 'Price': '45\\xa0kr', 'Details': '200 g• 225\\xa0kr/kg', 'Store': 'ICA Maxi Stormarknad', 'ValidFrom': '2024-09-24T00:00:00.000Z', 'ValidThrough': '2024-10-07T00:00:00.000Z', 'ValidUntil': '2024-10-07T00:00:00.000Z'}, {'Name': 'Hundmat', 'Price': '52\\xa0kr', 'Details': '2x650 g• 40\\xa0kr/kg', 'Store': 'ICA Maxi Stormarknad', 'ValidFrom': '2024-09-24T00:00:00.000Z', 'ValidThrough': '2024-10-23T00:00:00.000Z', 'ValidUntil': '2024-10-23T00:00:00.000Z'}, {'Name': 'Kattgodis Sticks 18g', 'Price': '25\\xa0kr', 'Details': '2 stycken• 12,50\\xa0kr/var', 'Store': 'ICA Maxi Stormarknad', 'ValidFrom': '2024-09-24T00:00:00.000Z', 'ValidThrough': '2024-10-23T00:00:00.000Z', 'ValidUntil': '2024-10-23T00:00:00.000Z'}, {'Name': 'Kattmat i Sås/Mousse', 'Price': '79\\xa0kr', 'Details': '10x85 g• 92,94\\xa0kr/kg', 'Store': 'ICA Maxi Stormarknad', 'ValidFrom': '2024-03-25T00:00:00.000Z', 'ValidThrough': '2025-05-01T00:00:00.000Z', 'ValidUntil': '2025-05-01T00:00:00.000Z'}, {'Name': 'Tuggummi', 'Price': '28\\xa0kr', 'Details': '2x29 g• 482,76\\xa0kr/kg', 'Store': 'ICA Maxi Stormarknad', 'ValidFrom': '2024-07-16T00:00:00.000Z', 'ValidThrough': '2025-08-02T00:00:00.000Z', 'ValidUntil': '2025-08-02T00:00:00.000Z'}, {'Name': 'Chips', 'Price': '45\\xa0kr', 'Details': '2x200 g• 112,50\\xa0kr/kg', 'Store': 'ICA Maxi Stormarknad', 'ValidFrom': '2024-09-19T00:00:00.000Z', 'ValidThrough': '2024-10-01T00:00:00.000Z', 'ValidUntil': '2024-10-01T00:00:00.000Z'}, {'Name': 'Oxfilé bit', 'Price': '389\\xa0kr', 'Details': '1 kg• 389\\xa0kr/kg', 'Store': 'ICA Maxi Stormarknad', 'ValidFrom': '2024-09-24T00:00:00.000Z', 'ValidThrough': '2024-09-30T00:00:00.000Z', 'ValidUntil': '2024-09-30T00:00:00.000Z'}, {'Name': 'Sköljmedel', 'Price': '20\\xa0kr', 'Details': '750 ml• 26,67\\xa0kr/l', 'Store': 'ICA Maxi Stormarknad', 'ValidFrom': '2024-09-24T00:00:00.000Z', 'ValidThrough': '2024-10-23T00:00:00.000Z', 'ValidUntil': '2024-10-23T00:00:00.000Z'}, {'Name': 'Hundmat', 'Price': '52\\xa0kr', 'Details': '2x650 g• 40\\xa0kr/kg', 'Store': 'ICA Maxi Stormarknad', 'ValidFrom': '2024-09-24T00:00:00.000Z', 'ValidThrough': '2024-10-23T00:00:00.000Z', 'ValidUntil': '2024-10-23T00:00:00.000Z'}, {'Name': 'Godisrem Sour blast apple', 'Price': '12\\xa0kr', 'Details': '180 g• 66,67\\xa0kr/kg', 'Store': 'ICA Maxi Stormarknad', 'ValidFrom': '2024-08-19T00:00:00.000Z', 'ValidThrough': '2024-10-01T00:00:00.000Z', 'ValidUntil': '2024-10-01T00:00:00.000Z'}, {'Name': 'Chokladpåse DOTs Mjölkchoklad', 'Price': '20\\xa0kr', 'Details': '120 g• 166,67\\xa0kr/kg', 'Store': 'ICA Maxi Stormarknad', 'ValidFrom': '2024-08-29T00:00:00.000Z', 'ValidThrough': '2024-09-27T00:00:00.000Z', 'ValidUntil': '2024-09-27T00:00:00.000Z'}, {'Name': 'Sköljmedel Outdoor Fresh 1l', 'Price': '29,95\\xa0kr', 'Details': '1 l• 29,95\\xa0kr/l', 'Store': 'ICA Maxi Stormarknad', 'ValidFrom': '2024-09-16T00:00:00.000Z', 'ValidThrough': '2024-10-25T00:00:00.000Z', 'ValidUntil': '2024-10-25T00:00:00.000Z'}]\n"
     ]
    }
   ],
   "source": [
    "print(scraped_data)"
   ]
  },
  {
   "cell_type": "code",
   "execution_count": 5,
   "metadata": {},
   "outputs": [],
   "source": [
    "# Instantiate DataCleaner with the scraped data and call the cleaning method\n",
    "cleaner = DataCleaner(scraped_data)\n",
    "clean_df = cleaner.clean()"
   ]
  },
  {
   "cell_type": "code",
   "execution_count": 6,
   "metadata": {},
   "outputs": [
    {
     "data": {
      "text/html": [
       "<div>\n",
       "<style scoped>\n",
       "    .dataframe tbody tr th:only-of-type {\n",
       "        vertical-align: middle;\n",
       "    }\n",
       "\n",
       "    .dataframe tbody tr th {\n",
       "        vertical-align: top;\n",
       "    }\n",
       "\n",
       "    .dataframe thead th {\n",
       "        text-align: right;\n",
       "    }\n",
       "</style>\n",
       "<table border=\"1\" class=\"dataframe\">\n",
       "  <thead>\n",
       "    <tr style=\"text-align: right;\">\n",
       "      <th></th>\n",
       "      <th>Name</th>\n",
       "      <th>Price</th>\n",
       "      <th>Store</th>\n",
       "      <th>ValidFrom</th>\n",
       "      <th>ValidThrough</th>\n",
       "      <th>ValidUntil</th>\n",
       "      <th>Quantity</th>\n",
       "      <th>ComparisonPrice</th>\n",
       "    </tr>\n",
       "  </thead>\n",
       "  <tbody>\n",
       "    <tr>\n",
       "      <th>0</th>\n",
       "      <td>Grönkålsblad i påse</td>\n",
       "      <td>25.0</td>\n",
       "      <td>ICA Maxi Stormarknad</td>\n",
       "      <td>2024-09-22</td>\n",
       "      <td>2024-09-29</td>\n",
       "      <td>2024-09-29</td>\n",
       "      <td>400 g</td>\n",
       "      <td>62,50 kr/kg</td>\n",
       "    </tr>\n",
       "    <tr>\n",
       "      <th>1</th>\n",
       "      <td>Röda kärnfria druvor i ask</td>\n",
       "      <td>25.0</td>\n",
       "      <td>ICA Maxi Stormarknad</td>\n",
       "      <td>2024-09-22</td>\n",
       "      <td>2024-09-29</td>\n",
       "      <td>2024-09-29</td>\n",
       "      <td>500 g</td>\n",
       "      <td>50 kr/kg</td>\n",
       "    </tr>\n",
       "    <tr>\n",
       "      <th>2</th>\n",
       "      <td>Babyplommontomater i ask</td>\n",
       "      <td>25.0</td>\n",
       "      <td>ICA Maxi Stormarknad</td>\n",
       "      <td>2024-09-22</td>\n",
       "      <td>2024-09-29</td>\n",
       "      <td>2024-09-29</td>\n",
       "      <td>500 g</td>\n",
       "      <td>50 kr/kg</td>\n",
       "    </tr>\n",
       "    <tr>\n",
       "      <th>3</th>\n",
       "      <td>Rostbiff</td>\n",
       "      <td>149.0</td>\n",
       "      <td>ICA Maxi Stormarknad</td>\n",
       "      <td>2024-09-22</td>\n",
       "      <td>2024-09-29</td>\n",
       "      <td>2024-09-29</td>\n",
       "      <td>1 kg</td>\n",
       "      <td>149 kr/kg</td>\n",
       "    </tr>\n",
       "    <tr>\n",
       "      <th>4</th>\n",
       "      <td>Bacon</td>\n",
       "      <td>79.0</td>\n",
       "      <td>ICA Maxi Stormarknad</td>\n",
       "      <td>2024-09-22</td>\n",
       "      <td>2024-09-29</td>\n",
       "      <td>2024-09-29</td>\n",
       "      <td>2x420 g</td>\n",
       "      <td>94,05 kr/kg</td>\n",
       "    </tr>\n",
       "    <tr>\n",
       "      <th>5</th>\n",
       "      <td>Avfallspåse</td>\n",
       "      <td>45.0</td>\n",
       "      <td>ICA Maxi Stormarknad</td>\n",
       "      <td>2024-09-22</td>\n",
       "      <td>2024-09-29</td>\n",
       "      <td>2024-09-29</td>\n",
       "      <td>3 stycken</td>\n",
       "      <td>15 kr/var</td>\n",
       "    </tr>\n",
       "    <tr>\n",
       "      <th>6</th>\n",
       "      <td>Diskborste</td>\n",
       "      <td>25.0</td>\n",
       "      <td>ICA Maxi Stormarknad</td>\n",
       "      <td>2024-09-22</td>\n",
       "      <td>2024-09-29</td>\n",
       "      <td>2024-09-29</td>\n",
       "      <td>3 stycken</td>\n",
       "      <td>8,33 kr/var</td>\n",
       "    </tr>\n",
       "    <tr>\n",
       "      <th>7</th>\n",
       "      <td>Stekpanna Jamie Oliver</td>\n",
       "      <td>299.0</td>\n",
       "      <td>ICA Maxi Stormarknad</td>\n",
       "      <td>2024-09-23</td>\n",
       "      <td>2024-10-14</td>\n",
       "      <td>2024-10-14</td>\n",
       "      <td></td>\n",
       "      <td>None</td>\n",
       "    </tr>\n",
       "    <tr>\n",
       "      <th>8</th>\n",
       "      <td>Kaffebryggare</td>\n",
       "      <td>599.0</td>\n",
       "      <td>ICA Maxi Stormarknad</td>\n",
       "      <td>2024-09-23</td>\n",
       "      <td>2024-10-14</td>\n",
       "      <td>2024-10-14</td>\n",
       "      <td></td>\n",
       "      <td>None</td>\n",
       "    </tr>\n",
       "    <tr>\n",
       "      <th>9</th>\n",
       "      <td>Ugnsform</td>\n",
       "      <td>69.9</td>\n",
       "      <td>ICA Maxi Stormarknad</td>\n",
       "      <td>2024-09-23</td>\n",
       "      <td>2024-10-14</td>\n",
       "      <td>2024-10-14</td>\n",
       "      <td></td>\n",
       "      <td>None</td>\n",
       "    </tr>\n",
       "  </tbody>\n",
       "</table>\n",
       "</div>"
      ],
      "text/plain": [
       "                         Name  Price                 Store   ValidFrom  \\\n",
       "0         Grönkålsblad i påse   25.0  ICA Maxi Stormarknad  2024-09-22   \n",
       "1  Röda kärnfria druvor i ask   25.0  ICA Maxi Stormarknad  2024-09-22   \n",
       "2    Babyplommontomater i ask   25.0  ICA Maxi Stormarknad  2024-09-22   \n",
       "3                    Rostbiff  149.0  ICA Maxi Stormarknad  2024-09-22   \n",
       "4                       Bacon   79.0  ICA Maxi Stormarknad  2024-09-22   \n",
       "5                 Avfallspåse   45.0  ICA Maxi Stormarknad  2024-09-22   \n",
       "6                  Diskborste   25.0  ICA Maxi Stormarknad  2024-09-22   \n",
       "7      Stekpanna Jamie Oliver  299.0  ICA Maxi Stormarknad  2024-09-23   \n",
       "8               Kaffebryggare  599.0  ICA Maxi Stormarknad  2024-09-23   \n",
       "9                    Ugnsform   69.9  ICA Maxi Stormarknad  2024-09-23   \n",
       "\n",
       "  ValidThrough  ValidUntil   Quantity ComparisonPrice  \n",
       "0   2024-09-29  2024-09-29      400 g     62,50 kr/kg  \n",
       "1   2024-09-29  2024-09-29      500 g        50 kr/kg  \n",
       "2   2024-09-29  2024-09-29      500 g        50 kr/kg  \n",
       "3   2024-09-29  2024-09-29       1 kg       149 kr/kg  \n",
       "4   2024-09-29  2024-09-29    2x420 g     94,05 kr/kg  \n",
       "5   2024-09-29  2024-09-29  3 stycken       15 kr/var  \n",
       "6   2024-09-29  2024-09-29  3 stycken     8,33 kr/var  \n",
       "7   2024-10-14  2024-10-14                       None  \n",
       "8   2024-10-14  2024-10-14                       None  \n",
       "9   2024-10-14  2024-10-14                       None  "
      ]
     },
     "execution_count": 6,
     "metadata": {},
     "output_type": "execute_result"
    }
   ],
   "source": [
    "clean_df.head(10)"
   ]
  },
  {
   "cell_type": "code",
   "execution_count": 7,
   "metadata": {},
   "outputs": [
    {
     "data": {
      "text/plain": [
       "167"
      ]
     },
     "execution_count": 7,
     "metadata": {},
     "output_type": "execute_result"
    }
   ],
   "source": [
    "len(clean_df)"
   ]
  },
  {
   "cell_type": "code",
   "execution_count": 8,
   "metadata": {},
   "outputs": [
    {
     "name": "stdout",
     "output_type": "stream",
     "text": [
      "<class 'pandas.core.frame.DataFrame'>\n",
      "Index: 167 entries, 0 to 222\n",
      "Data columns (total 8 columns):\n",
      " #   Column           Non-Null Count  Dtype  \n",
      "---  ------           --------------  -----  \n",
      " 0   Name             167 non-null    object \n",
      " 1   Price            167 non-null    float64\n",
      " 2   Store            167 non-null    object \n",
      " 3   ValidFrom        167 non-null    object \n",
      " 4   ValidThrough     167 non-null    object \n",
      " 5   ValidUntil       167 non-null    object \n",
      " 6   Quantity         167 non-null    object \n",
      " 7   ComparisonPrice  81 non-null     object \n",
      "dtypes: float64(1), object(7)\n",
      "memory usage: 11.7+ KB\n"
     ]
    }
   ],
   "source": [
    "clean_df.info()"
   ]
  },
  {
   "cell_type": "code",
   "execution_count": 9,
   "metadata": {},
   "outputs": [
    {
     "data": {
      "text/html": [
       "<div>\n",
       "<style scoped>\n",
       "    .dataframe tbody tr th:only-of-type {\n",
       "        vertical-align: middle;\n",
       "    }\n",
       "\n",
       "    .dataframe tbody tr th {\n",
       "        vertical-align: top;\n",
       "    }\n",
       "\n",
       "    .dataframe thead th {\n",
       "        text-align: right;\n",
       "    }\n",
       "</style>\n",
       "<table border=\"1\" class=\"dataframe\">\n",
       "  <thead>\n",
       "    <tr style=\"text-align: right;\">\n",
       "      <th></th>\n",
       "      <th>Price</th>\n",
       "    </tr>\n",
       "  </thead>\n",
       "  <tbody>\n",
       "    <tr>\n",
       "      <th>count</th>\n",
       "      <td>167.000000</td>\n",
       "    </tr>\n",
       "    <tr>\n",
       "      <th>mean</th>\n",
       "      <td>169.690419</td>\n",
       "    </tr>\n",
       "    <tr>\n",
       "      <th>std</th>\n",
       "      <td>307.187106</td>\n",
       "    </tr>\n",
       "    <tr>\n",
       "      <th>min</th>\n",
       "      <td>12.000000</td>\n",
       "    </tr>\n",
       "    <tr>\n",
       "      <th>25%</th>\n",
       "      <td>30.000000</td>\n",
       "    </tr>\n",
       "    <tr>\n",
       "      <th>50%</th>\n",
       "      <td>59.900000</td>\n",
       "    </tr>\n",
       "    <tr>\n",
       "      <th>75%</th>\n",
       "      <td>149.500000</td>\n",
       "    </tr>\n",
       "    <tr>\n",
       "      <th>max</th>\n",
       "      <td>2199.000000</td>\n",
       "    </tr>\n",
       "  </tbody>\n",
       "</table>\n",
       "</div>"
      ],
      "text/plain": [
       "             Price\n",
       "count   167.000000\n",
       "mean    169.690419\n",
       "std     307.187106\n",
       "min      12.000000\n",
       "25%      30.000000\n",
       "50%      59.900000\n",
       "75%     149.500000\n",
       "max    2199.000000"
      ]
     },
     "execution_count": 9,
     "metadata": {},
     "output_type": "execute_result"
    }
   ],
   "source": [
    "clean_df.describe()"
   ]
  },
  {
   "cell_type": "code",
   "execution_count": 10,
   "metadata": {},
   "outputs": [
    {
     "name": "stdout",
     "output_type": "stream",
     "text": [
      "Cleaned data saved to cleaned_offers.csv\n"
     ]
    }
   ],
   "source": [
    "cleaner.save_clean_data()"
   ]
  },
  {
   "cell_type": "code",
   "execution_count": 11,
   "metadata": {},
   "outputs": [],
   "source": [
    "save_to_sql(clean_df)"
   ]
  }
 ],
 "metadata": {
  "kernelspec": {
   "display_name": ".venv",
   "language": "python",
   "name": "python3"
  },
  "language_info": {
   "codemirror_mode": {
    "name": "ipython",
    "version": 3
   },
   "file_extension": ".py",
   "mimetype": "text/x-python",
   "name": "python",
   "nbconvert_exporter": "python",
   "pygments_lexer": "ipython3",
   "version": "3.12.6"
  }
 },
 "nbformat": 4,
 "nbformat_minor": 2
}
